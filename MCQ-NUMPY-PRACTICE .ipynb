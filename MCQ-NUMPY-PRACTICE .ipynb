{
 "cells": [
  {
   "cell_type": "code",
   "execution_count": 4,
   "id": "8e9adab7-6751-4165-af22-a3ccc0a92b50",
   "metadata": {},
   "outputs": [
    {
     "name": "stdout",
     "output_type": "stream",
     "text": [
      "     0        1            2   3   4   5\n",
      "0    1   Akshay  Mathematics  50  40  80\n",
      "1    2   Mahima      English  40  33  83\n",
      "2    3    Vikas  Mathematics  50  42  84\n",
      "3    4  Abhinav      English  40  31  78\n",
      "4    5   Mahima      Science  50  40  80\n",
      "5    6   Akshay      Science  50  49  98\n",
      "6    7  Abhinav  Mathematics  50  47  94\n",
      "7    8    Vikas      Science  50  40  80\n",
      "8    9  Abhinav      Science  50  47  94\n",
      "9   10    Vikas      English  40  39  98\n",
      "10  11   Akshay      English  40  35  88\n",
      "11  12   Mahima  Mathematics  50  43  86\n"
     ]
    }
   ],
   "source": [
    "import numpy as np\n",
    "import pandas as pd\n",
    "\n",
    "# The file is stored at the following path:\n",
    "# 'https://media-doselect.s3.amazonaws.com/generic/A08MajL8qN4rq72EpVJbAP1Rw/marks_1.csv'\n",
    "# Provide your answer below\n",
    "df= pd.read_csv('https://media-doselect.s3.amazonaws.com/generic/A08MajL8qN4rq72EpVJbAP1Rw/marks_1.csv',header=None,sep='|')\n",
    "#df_string = df.to_string(index=False, header=False).replace(',', '')\n",
    "\n",
    "\n",
    "print(df)"
   ]
  },
  {
   "cell_type": "code",
   "execution_count": 13,
   "id": "89515b73-b327-4f82-a487-49211290f3a5",
   "metadata": {},
   "outputs": [
    {
     "name": "stdout",
     "output_type": "stream",
     "text": [
      "    S.No.     Name      Subject  Maximum Marks  Marks Obtained  Percentage\n",
      "0       1   Akshay  Mathematics             50              40          80\n",
      "1       2   Mahima      English             40              33          83\n",
      "2       3    Vikas  Mathematics             50              42          84\n",
      "3       4  Abhinav      English             40              31          78\n",
      "4       5   Mahima      Science             50              40          80\n",
      "5       6   Akshay      Science             50              49          98\n",
      "6       7  Abhinav  Mathematics             50              47          94\n",
      "7       8    Vikas      Science             50              40          80\n",
      "8       9  Abhinav      Science             50              47          94\n",
      "9      10    Vikas      English             40              39          98\n",
      "10     11   Akshay      English             40              35          88\n",
      "11     12   Mahima  Mathematics             50              43          86\n"
     ]
    }
   ],
   "source": [
    "import numpy as np\n",
    "import pandas as pd\n",
    "\n",
    "# Define the column names\n",
    "column_names = [\"S.No.\", \"Name\", \"Subject\", \"Maximum Marks\", \"Marks Obtained\", \"Percentage\"]\n",
    "\n",
    "# Read the CSV file with the specified column names and separator\n",
    "df = pd.read_csv('https://media-doselect.s3.amazonaws.com/generic/A08MajL8qN4rq72EpVJbAP1Rw/marks_1.csv',\n",
    "                 names=column_names, sep='|')\n",
    "\n",
    "# Print the DataFrame\n",
    "print(df)"
   ]
  },
  {
   "cell_type": "code",
   "execution_count": 17,
   "id": "1215a11a-0016-4749-b9d7-08bbd4d5e566",
   "metadata": {},
   "outputs": [
    {
     "name": "stdout",
     "output_type": "stream",
     "text": [
      " S.No.    Name     Subject  Maximum Marks  Marks Obtained  Percentage\n",
      "     1  Akshay Mathematics             50              40          80\n",
      "     2  Mahima     English             40              33          83\n",
      "     3   Vikas Mathematics             50              42          84\n",
      "     4 Abhinav     English             40              31          78\n",
      "     5  Mahima     Science             50              40          80\n",
      "     6  Akshay     Science             50              49          98\n",
      "     7 Abhinav Mathematics             50              47          94\n",
      "     8   Vikas     Science             50              40          80\n",
      "     9 Abhinav     Science             50              47          94\n",
      "    10   Vikas     English             40              39          98\n",
      "    11  Akshay     English             40              35          88\n",
      "    12  Mahima Mathematics             50              43          86\n"
     ]
    }
   ],
   "source": [
    "import numpy as np\n",
    "import pandas as pd\n",
    "\n",
    "# Define the column names\n",
    "column_names = [\"S.No.\", \"Name\", \"Subject\", \"Maximum Marks\", \"Marks Obtained\", \"Percentage\"]\n",
    "\n",
    "# Read the CSV file with the specified column names and separator\n",
    "df = pd.read_csv('https://media-doselect.s3.amazonaws.com/generic/A08MajL8qN4rq72EpVJbAP1Rw/marks_1.csv',\n",
    "                 names=column_names, sep='|')\n",
    "\n",
    "# Print the DataFrame\n",
    "print(df.to_string(index=False))"
   ]
  },
  {
   "cell_type": "code",
   "execution_count": 18,
   "id": "370c02f1-c910-4547-92c1-b05251bdbc65",
   "metadata": {},
   "outputs": [
    {
     "name": "stdout",
     "output_type": "stream",
     "text": [
      " S.No.    Name     Subject  Maximum Marks  Marks Obtained  Percentage\n",
      "     1  Akshay Mathematics             50              40          80\n",
      "     2  Mahima     English             40              33          83\n",
      "     3   Vikas Mathematics             50              42          84\n",
      "     4 Abhinav     English             40              31          78\n",
      "     5  Mahima     Science             50              40          80\n",
      "     6  Akshay     Science             50              49          98\n",
      "     7 Abhinav Mathematics             50              47          94\n",
      "     8   Vikas     Science             50              40          80\n",
      "     9 Abhinav     Science             50              47          94\n",
      "    10   Vikas     English             40              39          98\n",
      "    11  Akshay     English             40              35          88\n",
      "    12  Mahima Mathematics             50              43          86\n"
     ]
    }
   ],
   "source": [
    "import numpy as np\n",
    "import pandas as pd\n",
    "\n",
    "# Define the column names\n",
    "column_names = [\"S.No.\", \"Name\", \"Subject\", \"Maximum Marks\", \"Marks Obtained\", \"Percentage\"]\n",
    "\n",
    "# Read the CSV file with the specified column names and separator\n",
    "df = (pd.read_csv('https://media-doselect.s3.amazonaws.com/generic/A08MajL8qN4rq72EpVJbAP1Rw/marks_1.csv',\n",
    "                 names=column_names, sep='|')).to_string(index=False)\n",
    "\n",
    "# Print the DataFrame\n",
    "print(df)"
   ]
  },
  {
   "cell_type": "code",
   "execution_count": 20,
   "id": "90c9ccb9-1455-4ee8-8518-1eb6074a42d2",
   "metadata": {},
   "outputs": [
    {
     "name": "stdout",
     "output_type": "stream",
     "text": [
      "       Name      Subject  Maximum Marks  Marks Obtained  Percentage\n",
      "1    Akshay  Mathematics             50              40          80\n",
      "2    Mahima      English             40              33          83\n",
      "3     Vikas  Mathematics             50              42          84\n",
      "4   Abhinav      English             40              31          78\n",
      "5    Mahima      Science             50              40          80\n",
      "6    Akshay      Science             50              49          98\n",
      "7   Abhinav  Mathematics             50              47          94\n",
      "8     Vikas      Science             50              40          80\n",
      "9   Abhinav      Science             50              47          94\n",
      "10    Vikas      English             40              39          98\n",
      "11   Akshay      English             40              35          88\n",
      "12   Mahima  Mathematics             50              43          86\n"
     ]
    }
   ],
   "source": [
    "import numpy as np\n",
    "import pandas as pd\n",
    "\n",
    "# The file is stored at the following path:\n",
    "# 'https://media-doselect.s3.amazonaws.com/generic/A08MajL8qN4rq72EpVJbAP1Rw/marks_1.csv'\n",
    "# Provide your answer below\n",
    "# Define the column names\n",
    "column_names = [\"Name\", \"Subject\", \"Maximum Marks\", \"Marks Obtained\", \"Percentage\"]\n",
    "\n",
    "# Read the CSV file with the specified column names and separator\n",
    "df = (pd.read_csv('https://media-doselect.s3.amazonaws.com/generic/A08MajL8qN4rq72EpVJbAP1Rw/marks_1.csv',\n",
    "                 names=column_names, sep='|')).to_string(index='S.No')\n",
    "\n",
    "# Print the DataFrame\n",
    "print(df)\n"
   ]
  },
  {
   "cell_type": "code",
   "execution_count": 24,
   "id": "038a400e-2057-4de4-a674-ddc48393368d",
   "metadata": {},
   "outputs": [
    {
     "name": "stdout",
     "output_type": "stream",
     "text": [
      "       Name      Subject  Maximum Marks  Marks Obtained  Percentage\n",
      "1    Akshay  Mathematics             50              40          80\n",
      "2    Mahima      English             40              33          83\n",
      "3     Vikas  Mathematics             50              42          84\n",
      "4   Abhinav      English             40              31          78\n",
      "5    Mahima      Science             50              40          80\n",
      "6    Akshay      Science             50              49          98\n",
      "7   Abhinav  Mathematics             50              47          94\n",
      "8     Vikas      Science             50              40          80\n",
      "9   Abhinav      Science             50              47          94\n",
      "10    Vikas      English             40              39          98\n",
      "11   Akshay      English             40              35          88\n",
      "12   Mahima  Mathematics             50              43          86\n"
     ]
    }
   ],
   "source": [
    "import numpy as np\n",
    "import pandas as pd\n",
    "\n",
    "# The file is stored at the following path:\n",
    "# 'https://media-doselect.s3.amazonaws.com/generic/A08MajL8qN4rq72EpVJbAP1Rw/marks_1.csv'\n",
    "# Provide your answer below\n",
    "\n",
    "# Read the CSV file with the specified column names and separator\n",
    "df = (pd.read_csv('https://media-doselect.s3.amazonaws.com/generic/A08MajL8qN4rq72EpVJbAP1Rw/marks_1.csv',\n",
    "                 names=[\"Name\", \"Subject\", \"Maximum Marks\", \"Marks Obtained\", \"Percentage\"], sep='|')).to_string(index='S.No')\n",
    "# Print the DataFrame\n",
    "print(df)"
   ]
  },
  {
   "cell_type": "code",
   "execution_count": 40,
   "id": "18d1e17e-2e66-4add-a851-579de2a82690",
   "metadata": {},
   "outputs": [
    {
     "name": "stdout",
     "output_type": "stream",
     "text": [
      "          Name      Subject  Maximum Marks  Marks Obtained  Percentage\n",
      "S.No.                                                                 \n",
      "1       Akshay  Mathematics             50              40          80\n",
      "2       Mahima      English             40              33          83\n",
      "3        Vikas  Mathematics             50              42          84\n",
      "4      Abhinav      English             40              31          78\n",
      "5       Mahima      Science             50              40          80\n",
      "6       Akshay      Science             50              49          98\n",
      "7      Abhinav  Mathematics             50              47          94\n",
      "8        Vikas      Science             50              40          80\n",
      "9      Abhinav      Science             50              47          94\n",
      "10       Vikas      English             40              39          98\n",
      "11      Akshay      English             40              35          88\n",
      "12      Mahima  Mathematics             50              43          86\n"
     ]
    }
   ],
   "source": [
    "import numpy as np\n",
    "import pandas as pd\n",
    "\n",
    "# The file is stored at the following path:\n",
    "# 'https://media-doselect.s3.amazonaws.com/generic/A08MajL8qN4rq72EpVJbAP1Rw/marks_1.csv'\n",
    "# Provide your answer below\n",
    "# Read the CSV file with the specified column names and separator\n",
    "df = pd.read_csv('https://media-doselect.s3.amazonaws.com/generic/A08MajL8qN4rq72EpVJbAP1Rw/marks_1.csv',\n",
    "                 names=[\"Name\", \"Subject\", \"Maximum Marks\", \"Marks Obtained\", \"Percentage\"], sep='|')\n",
    "df.rename_axis('S.No.', inplace=True)\n",
    "# Print the DataFrame\n",
    "print(df)"
   ]
  }
 ],
 "metadata": {
  "kernelspec": {
   "display_name": "Python 3 (ipykernel)",
   "language": "python",
   "name": "python3"
  },
  "language_info": {
   "codemirror_mode": {
    "name": "ipython",
    "version": 3
   },
   "file_extension": ".py",
   "mimetype": "text/x-python",
   "name": "python",
   "nbconvert_exporter": "python",
   "pygments_lexer": "ipython3",
   "version": "3.12.3"
  }
 },
 "nbformat": 4,
 "nbformat_minor": 5
}
