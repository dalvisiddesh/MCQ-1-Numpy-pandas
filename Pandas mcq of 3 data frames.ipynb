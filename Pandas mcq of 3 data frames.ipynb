{
 "cells": [
  {
   "cell_type": "code",
   "execution_count": null,
   "id": "b11976b2-f146-4e43-9d0f-74ccb34bd757",
   "metadata": {},
   "outputs": [],
   "source": [
    "import pandas as pd\n",
    "df_1 = pd.read_csv('https://query.data.world/s/vv3snq28bp0TJq2ggCdxGOghEQKPZo')\n",
    "df_2 = pd.read_csv('https://query.data.world/s/9wVKjNT0yiRc3YbVJaiI8a6HGl2d74')\n",
    "df_3 = pd.merge(df_1, df_2, on='unique_id', how=\"inner\")\n",
    "print(df_3.head(20))"
   ]
  },
  {
   "cell_type": "code",
   "execution_count": 77,
   "id": "c096602c-5845-421b-bfdd-1119b793a6b9",
   "metadata": {},
   "outputs": [
    {
     "name": "stdout",
     "output_type": "stream",
     "text": [
      "         Medals\n",
      "Country        \n",
      "USA          72\n",
      "France       53\n",
      "UK           27\n",
      "Russia       25\n",
      "Germany      20\n"
     ]
    }
   ],
   "source": [
    "#Given three data frames containing the number of gold, silver, and bronze Olympic medals won by some countries, determine the total number of medals won by each country. \n",
    "\n",
    "#Note: All three data frames don’t have all the same countries.\n",
    "#So, ensure you use the ‘fill_value’ argument (set it to zero), to avoid getting NaN values. \n",
    "#Also, ensure you sort the final data frame, according to the total medal count in descending order. \n",
    "#Make sure that the results are in integers.\n",
    "\n",
    "\n",
    "import numpy as np \n",
    "import pandas as pd\n",
    "\n",
    "# Defining the three dataframes indicating the gold, silver, and bronze medal counts of different countries\n",
    "gold = pd.DataFrame({'Country': ['USA', 'France', 'Russia'],'Medals': [15, 13, 9]})\n",
    "silver = pd.DataFrame({'Country': ['USA', 'Germany', 'Russia'],'Medals': [29, 20, 16]})\n",
    "bronze = pd.DataFrame({'Country': ['France', 'USA', 'UK'],'Medals': [40, 28, 27]})\n",
    "\n",
    "data_by_country_gold=gold.groupby([\"Country\"])[\"Medals\"].sum().reset_index(name='data_by_country_gold')\n",
    "\n",
    "data_by_country_silver=silver.groupby([\"Country\"])[\"Medals\"].sum().reset_index(name='data_by_country_silver')\n",
    "\n",
    "data_by_country_bronze=bronze.groupby([\"Country\"])[\"Medals\"].sum().reset_index(name='data_by_country_bronze')\n",
    "\n",
    "df_combined = pd.merge(data_by_country_gold, data_by_country_silver, on='Country', how=\"outer\")\n",
    "df_combined = pd.merge(df_combined, data_by_country_bronze, on='Country', how=\"outer\")\n",
    "\n",
    "# Fill missing values with 0\n",
    "df_combined = df_combined.fillna(0)\n",
    "\n",
    "# Calculate the total medal count\n",
    "df_combined['Medals'] = df_combined['data_by_country_gold'] + df_combined['data_by_country_silver'] + df_combined['data_by_country_bronze']\n",
    "\n",
    "# Drop unnecessary columns\n",
    "df_combined = df_combined[['Country', 'Medals']]\n",
    "\n",
    "# Sort the DataFrame by medal count in descending order\n",
    "df_combined = df_combined.sort_values(by='Medals', ascending=False)\n",
    "\n",
    "# Ensure the results are in integers\n",
    "df_combined['Medals'] = df_combined['Medals'].astype(int)\n",
    "\n",
    "print(df_combined.set_index('Country'))\n"
   ]
  }
 ],
 "metadata": {
  "kernelspec": {
   "display_name": "Python 3 (ipykernel)",
   "language": "python",
   "name": "python3"
  },
  "language_info": {
   "codemirror_mode": {
    "name": "ipython",
    "version": 3
   },
   "file_extension": ".py",
   "mimetype": "text/x-python",
   "name": "python",
   "nbconvert_exporter": "python",
   "pygments_lexer": "ipython3",
   "version": "3.12.3"
  }
 },
 "nbformat": 4,
 "nbformat_minor": 5
}
